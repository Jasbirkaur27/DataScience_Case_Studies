{
 "cells": [
  {
   "cell_type": "markdown",
   "id": "899cb016",
   "metadata": {},
   "source": [
    "## Gender Prediction from Name"
   ]
  },
  {
   "cell_type": "code",
   "execution_count": 1,
   "id": "0c507c19",
   "metadata": {},
   "outputs": [],
   "source": [
    "import pandas as pd\n",
    "import numpy as np\n",
    "from sklearn.model_selection import train_test_split"
   ]
  },
  {
   "cell_type": "code",
   "execution_count": 2,
   "id": "c6249eaa",
   "metadata": {},
   "outputs": [],
   "source": [
    "from sklearn.naive_bayes import GaussianNB,MultinomialNB,BernoulliNB\n",
    "from sklearn.metrics import accuracy_score,f1_score\n",
    "from sklearn.feature_extraction import DictVectorizer\n"
   ]
  },
  {
   "cell_type": "markdown",
   "id": "d7f6e778",
   "metadata": {},
   "source": [
    "### Predicting Gender from name "
   ]
  },
  {
   "cell_type": "code",
   "execution_count": 3,
   "id": "4eb3bad7",
   "metadata": {},
   "outputs": [],
   "source": [
    "data=pd.read_csv(\"GenderPrediction .csv\")"
   ]
  },
  {
   "cell_type": "code",
   "execution_count": 4,
   "id": "70f46303",
   "metadata": {},
   "outputs": [
    {
     "data": {
      "text/plain": [
       "Index(['Name', 'Gender', 'LastLetter', ' ', ' .1', ' .2', ' .3', ' .4', ' .5',\n",
       "       ' .6', ' .7', ' .8', ' .9', ' .10', ' .11', ' .12', ' .13', ' .14',\n",
       "       ' .15', ' .16', ' .17', ' .18', ' .19', ' .20', ' .21', ' .22'],\n",
       "      dtype='object')"
      ]
     },
     "execution_count": 4,
     "metadata": {},
     "output_type": "execute_result"
    }
   ],
   "source": [
    "data.columns"
   ]
  },
  {
   "cell_type": "code",
   "execution_count": 5,
   "id": "8b586005",
   "metadata": {},
   "outputs": [],
   "source": [
    "data=data.drop(columns=[' ', ' .1', ' .2', ' .3', ' .4', ' .5',\n",
    "       ' .6', ' .7', ' .8', ' .9', ' .10', ' .11', ' .12', ' .13', ' .14',\n",
    "       ' .15', ' .16', ' .17', ' .18', ' .19', ' .20', ' .21', ' .22'])"
   ]
  },
  {
   "cell_type": "code",
   "execution_count": 6,
   "id": "dcf772d7",
   "metadata": {},
   "outputs": [
    {
     "data": {
      "text/html": [
       "<div>\n",
       "<style scoped>\n",
       "    .dataframe tbody tr th:only-of-type {\n",
       "        vertical-align: middle;\n",
       "    }\n",
       "\n",
       "    .dataframe tbody tr th {\n",
       "        vertical-align: top;\n",
       "    }\n",
       "\n",
       "    .dataframe thead th {\n",
       "        text-align: right;\n",
       "    }\n",
       "</style>\n",
       "<table border=\"1\" class=\"dataframe\">\n",
       "  <thead>\n",
       "    <tr style=\"text-align: right;\">\n",
       "      <th></th>\n",
       "      <th>Name</th>\n",
       "      <th>Gender</th>\n",
       "      <th>LastLetter</th>\n",
       "    </tr>\n",
       "  </thead>\n",
       "  <tbody>\n",
       "    <tr>\n",
       "      <th>0</th>\n",
       "      <td>Ashutosh</td>\n",
       "      <td>Male</td>\n",
       "      <td>h</td>\n",
       "    </tr>\n",
       "    <tr>\n",
       "      <th>1</th>\n",
       "      <td>Meghamala</td>\n",
       "      <td>Female</td>\n",
       "      <td>a</td>\n",
       "    </tr>\n",
       "    <tr>\n",
       "      <th>2</th>\n",
       "      <td>Sahib</td>\n",
       "      <td>Male</td>\n",
       "      <td>b</td>\n",
       "    </tr>\n",
       "    <tr>\n",
       "      <th>3</th>\n",
       "      <td>Pragya</td>\n",
       "      <td>Female</td>\n",
       "      <td>a</td>\n",
       "    </tr>\n",
       "    <tr>\n",
       "      <th>4</th>\n",
       "      <td>Kranti</td>\n",
       "      <td>Female</td>\n",
       "      <td>i</td>\n",
       "    </tr>\n",
       "  </tbody>\n",
       "</table>\n",
       "</div>"
      ],
      "text/plain": [
       "        Name  Gender LastLetter\n",
       "0   Ashutosh    Male          h\n",
       "1  Meghamala  Female          a\n",
       "2      Sahib    Male          b\n",
       "3     Pragya  Female          a\n",
       "4     Kranti  Female          i"
      ]
     },
     "execution_count": 6,
     "metadata": {},
     "output_type": "execute_result"
    }
   ],
   "source": [
    "data.head()"
   ]
  },
  {
   "cell_type": "markdown",
   "id": "e6f56186",
   "metadata": {},
   "source": [
    "### Splitting data into testing and Validation "
   ]
  },
  {
   "cell_type": "code",
   "execution_count": 7,
   "id": "ba3822a1",
   "metadata": {},
   "outputs": [],
   "source": [
    "#Feature  \n",
    "x=data[['LastLetter']]\n",
    "#Target\n",
    "y=data['Gender']"
   ]
  },
  {
   "cell_type": "code",
   "execution_count": 8,
   "id": "270e4297",
   "metadata": {},
   "outputs": [],
   "source": [
    "X_train, X_validation, y_train, y_validation = train_test_split(x, y, test_size=0.3, random_state=40, stratify=y)"
   ]
  },
  {
   "cell_type": "code",
   "execution_count": 9,
   "id": "46d00322",
   "metadata": {},
   "outputs": [],
   "source": [
    "vectorizer = DictVectorizer(sparse=False)\n",
    "X_train_dict = X_train.to_dict(orient='records')\n",
    "X_validation_dict = X_validation.to_dict(orient='records')"
   ]
  },
  {
   "cell_type": "code",
   "execution_count": 10,
   "id": "00722b39",
   "metadata": {},
   "outputs": [],
   "source": [
    "X_train_encoded = vectorizer.fit_transform(X_train_dict)\n",
    "X_validation_encoded = vectorizer.transform(X_validation_dict)"
   ]
  },
  {
   "cell_type": "markdown",
   "id": "8c17788c",
   "metadata": {},
   "source": [
    "### Model Training and Prediction and checking Accuracy and f1 score"
   ]
  },
  {
   "cell_type": "code",
   "execution_count": 11,
   "id": "b30e2be4",
   "metadata": {},
   "outputs": [
    {
     "name": "stdout",
     "output_type": "stream",
     "text": [
      "Accuracy of MultinomialNB(): 0.8191\n",
      "F1-score for MultinomialNB(): 0.8219\n"
     ]
    }
   ],
   "source": [
    "#Model training and predicting \n",
    "model = MultinomialNB()\n",
    "model.fit(X_train_encoded, y_train)\n",
    "\n",
    "y_pred = model.predict(X_validation_encoded)\n",
    "\n",
    "accuracy = accuracy_score(y_validation, y_pred)\n",
    "f1 = f1_score(y_validation, y_pred, pos_label='Female')  # Positive class Female\n",
    "print(f\"Accuracy of MultinomialNB(): {accuracy:.4f}\")\n",
    "print(f\"F1-score for MultinomialNB(): {f1:.4f}\")"
   ]
  },
  {
   "cell_type": "markdown",
   "id": "b93970d4",
   "metadata": {},
   "source": [
    "### Predicting  for new name"
   ]
  },
  {
   "cell_type": "code",
   "execution_count": null,
   "id": "2c95e3e1",
   "metadata": {},
   "outputs": [],
   "source": [
    "def predict_gender(name):\n",
    "    last_letter = name[-1].lower()  \n",
    "    last_letter_dict = {'LastLetter': last_letter}  # dictionary for the last letter\n",
    "    last_letter_encoded = vectorizer.transform([last_letter_dict])  # Transform it using the vectorizer\n",
    "    prediction = model.predict(last_letter_encoded)  \n",
    "    return prediction[0]"
   ]
  },
  {
   "cell_type": "code",
   "execution_count": null,
   "id": "d188abec",
   "metadata": {},
   "outputs": [],
   "source": [
    "new_name = input(\"Enter a name to predict its gender: \")\n",
    "predicted_gender = predict_gender(new_name)\n",
    "print(f\"The predicted gender for the name {new_name} is: {predicted_gender}\")"
   ]
  },
  {
   "cell_type": "code",
   "execution_count": null,
   "id": "bc9ddc75",
   "metadata": {},
   "outputs": [],
   "source": []
  }
 ],
 "metadata": {
  "kernelspec": {
   "display_name": "Python 3 (ipykernel)",
   "language": "python",
   "name": "python3"
  },
  "language_info": {
   "codemirror_mode": {
    "name": "ipython",
    "version": 3
   },
   "file_extension": ".py",
   "mimetype": "text/x-python",
   "name": "python",
   "nbconvert_exporter": "python",
   "pygments_lexer": "ipython3",
   "version": "3.10.9"
  }
 },
 "nbformat": 4,
 "nbformat_minor": 5
}
